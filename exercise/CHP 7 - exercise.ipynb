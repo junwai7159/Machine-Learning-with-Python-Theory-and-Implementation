{
 "cells": [
  {
   "cell_type": "markdown",
   "metadata": {},
   "source": [
    "### Exercise 1"
   ]
  },
  {
   "cell_type": "code",
   "execution_count": 1,
   "metadata": {},
   "outputs": [],
   "source": [
    "import numpy as np\n",
    "import matplotlib.pyplot as plt\n",
    "from matplotlib.colors import ListedColormap"
   ]
  },
  {
   "cell_type": "code",
   "execution_count": 7,
   "metadata": {},
   "outputs": [],
   "source": [
    "arrays = np.load('../data/iris_train_scaled.npz')\n",
    "X_train = arrays['X']\n",
    "y_train = arrays['y']\n",
    "arrays = np.load('../data/iris_test_scaled.npz')\n",
    "X_test = arrays['X']\n",
    "y_test = arrays['y']\n",
    "X_train = X_train[:, 0:3]\n",
    "X_test = X_test[:, 0:3]"
   ]
  },
  {
   "cell_type": "code",
   "execution_count": 8,
   "metadata": {},
   "outputs": [
    {
     "name": "stdout",
     "output_type": "stream",
     "text": [
      "The accuracy for min_samples_leaf=1 on the test data is 0.900\n",
      "The accuracy for min_samples_leaf=2 on the test data is 0.900\n",
      "The accuracy for min_samples_leaf=5 on the test data is 0.867\n",
      "The accuracy for min_samples_leaf=10 on the test data is 0.967\n"
     ]
    }
   ],
   "source": [
    "from sklearn.tree import DecisionTreeClassifier as CART\n",
    "\n",
    "min_samples_leaf_val = [1, 2, 5, 10]\n",
    "for msl in min_samples_leaf_val:\n",
    "  cart = CART(min_samples_leaf=msl)\n",
    "  cart.fit(X_train, y_train)\n",
    "  print('The accuracy for min_samples_leaf={} on the test data is {:.3f}'.format(msl, cart.score(X_test, y_test)))"
   ]
  },
  {
   "cell_type": "code",
   "execution_count": 11,
   "metadata": {},
   "outputs": [
    {
     "name": "stdout",
     "output_type": "stream",
     "text": [
      "The accuracy for K=1 on the test data is 0.900\n",
      "The accuracy for K=3 on the test data is 0.933\n",
      "The accuracy for K=9 on the test data is 0.900\n",
      "The accuracy for K=36 on the test data is 0.800\n"
     ]
    }
   ],
   "source": [
    "from sklearn.neighbors import KNeighborsClassifier as KNN\n",
    "\n",
    "K_val = [1, 3, 9, 36]\n",
    "for K in K_val:\n",
    "  knn = KNN(n_neighbors=K)\n",
    "  knn.fit(X_train, y_train)\n",
    "  print('The accuracy for K={} on the test data is {:.3f}'.format(K, knn.score(X_test, y_test)))"
   ]
  }
 ],
 "metadata": {
  "kernelspec": {
   "display_name": "mle",
   "language": "python",
   "name": "python3"
  },
  "language_info": {
   "codemirror_mode": {
    "name": "ipython",
    "version": 3
   },
   "file_extension": ".py",
   "mimetype": "text/x-python",
   "name": "python",
   "nbconvert_exporter": "python",
   "pygments_lexer": "ipython3",
   "version": "3.10.9"
  }
 },
 "nbformat": 4,
 "nbformat_minor": 2
}
